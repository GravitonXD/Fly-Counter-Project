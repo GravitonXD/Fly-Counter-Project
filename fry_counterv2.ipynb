{
 "cells": [
  {
   "attachments": {},
   "cell_type": "markdown",
   "metadata": {},
   "source": [
    "# FRY COUNTER v2 (Using Grid Search)"
   ]
  },
  {
   "cell_type": "code",
   "execution_count": null,
   "metadata": {},
   "outputs": [],
   "source": [
    "import cv2 as cv\n",
    "import numpy as np\n",
    "import os"
   ]
  },
  {
   "attachments": {},
   "cell_type": "markdown",
   "metadata": {},
   "source": [
    "## Functions"
   ]
  },
  {
   "cell_type": "code",
   "execution_count": null,
   "metadata": {},
   "outputs": [],
   "source": [
    "# Function for opening image\n",
    "def get_img(img_path, grayscale=True):\n",
    "    img = cv.imread(img_path)\n",
    "    if grayscale:\n",
    "        return cv.cvtColor(img, cv.COLOR_BGR2GRAY)\n",
    "    return img"
   ]
  },
  {
   "cell_type": "code",
   "execution_count": null,
   "metadata": {},
   "outputs": [],
   "source": [
    "# Function for cropping image\n",
    "def crop_img(img):\n",
    "    img_centerX = img.shape[1] // 2\n",
    "    img_centerY = img.shape[0] // 2\n",
    "\n",
    "    # Initialize mask to use\n",
    "    mask = np.zeros(img.shape, dtype=np.uint8)\n",
    "\n",
    "    # Crop the image\n",
    "    region_to_cut = cv.ellipse(mask, (img_centerX, img_centerY), (547, 547), 0, 0, 360, 255, -1)\n",
    "    cropped_img = cv.bitwise_or(img, img, mask=region_to_cut)\n",
    "    return cropped_img[:, img_centerX-600:img_centerX+600]"
   ]
  },
  {
   "cell_type": "code",
   "execution_count": null,
   "metadata": {},
   "outputs": [],
   "source": [
    "# Gaussian Blur Function\n",
    "def gaussian_blur(img, kernel_a, kernel_b):\n",
    "    return cv.GaussianBlur(img, (kernel_a, kernel_b), 0)"
   ]
  },
  {
   "cell_type": "code",
   "execution_count": null,
   "metadata": {},
   "outputs": [],
   "source": [
    "# Remove the background from the fry image\n",
    "def img_diff(img, bg_img):\n",
    "    return cv.absdiff(img, bg_img)"
   ]
  },
  {
   "cell_type": "code",
   "execution_count": null,
   "metadata": {},
   "outputs": [],
   "source": [
    "# Image Segmentation Using Thresholding Function\n",
    "def threshold_img(diff_img, type='OTSU', block=0, c=0):\n",
    "    if type == 'OTSU':\n",
    "        _, thresh_img = cv.threshold(diff_img, 0, 255, cv.THRESH_BINARY + cv.THRESH_OTSU)\n",
    "        return thresh_img\n",
    "    else:\n",
    "        return cv.adaptiveThreshold(diff_img, 255, cv.ADAPTIVE_THRESH_GAUSSIAN_C, cv.THRESH_OTSU, block, c)"
   ]
  },
  {
   "cell_type": "code",
   "execution_count": null,
   "metadata": {},
   "outputs": [],
   "source": [
    "# Histogram Counter\n",
    "def histogram_counter(thres_img, pixel_to_count='white'):\n",
    "    if pixel_to_count == 'white':\n",
    "        return np.count_nonzero(thres_img == 255)\n",
    "    else:\n",
    "        return np.count_nonzero(thres_img == 0)"
   ]
  },
  {
   "cell_type": "code",
   "execution_count": null,
   "metadata": {},
   "outputs": [],
   "source": [
    "# Countour Detection\n",
    "def contour_detection(thres_img):\n",
    "    contours, _ = cv.findContours(thres_img, cv.RETR_TREE, cv.CHAIN_APPROX_SIMPLE)\n",
    "    return contours"
   ]
  },
  {
   "attachments": {},
   "cell_type": "markdown",
   "metadata": {},
   "source": [
    "## GridSearch Training"
   ]
  },
  {
   "cell_type": "code",
   "execution_count": null,
   "metadata": {},
   "outputs": [],
   "source": [
    "# Path to the images (100)\n",
    "path = './IMAGES/100/'\n",
    "list_images_100 = [f for f in os.listdir(path) if f.startswith('my_photo')]\n",
    "list_paths_100 = [path + f for f in list_images_100]\n",
    "\n",
    "# Path to the images (200)\n",
    "path = './IMAGES/200/'\n",
    "list_images_200 = [f for f in os.listdir(path) if f.startswith('my_photo')]\n",
    "list_paths_200 = [path + f for f in list_images_200]\n",
    "\n",
    "# Path to the images (300)\n",
    "path = './IMAGES/300/'\n",
    "list_images_300 = [f for f in os.listdir(path) if f.startswith('my_photo')]\n",
    "list_paths_300 = [path + f for f in list_images_300]\n",
    "\n",
    "# Path to the images (400)\n",
    "path = './IMAGES/400/'\n",
    "list_images_400 = [f for f in os.listdir(path) if f.startswith('my_photo')]\n",
    "list_paths_400 = [path + f for f in list_images_400]"
   ]
  },
  {
   "cell_type": "code",
   "execution_count": null,
   "metadata": {},
   "outputs": [],
   "source": [
    "# Kernel values for Grid Searching\n",
    "\n",
    "# Kernel values for Fry Image\n",
    "kernel_values_a = [3, 5, 7, 9, 11, 13]\n",
    "kernel_values_b = [3, 5, 7, 9, 11, 13]\n",
    "\n",
    "# Kernel values for Background Image\n",
    "kernel_values_c = [3, 5, 7, 9, 11, 13]\n",
    "kernel_values_d = [3, 5, 7, 9, 11, 13]"
   ]
  },
  {
   "cell_type": "code",
   "execution_count": null,
   "metadata": {},
   "outputs": [],
   "source": [
    "# Initialize the best accuracy (FOR 100 FRIES)\n",
    "best_accuracy_100 = None\n",
    "best_100_a = None\n",
    "best_100_b = None\n",
    "best_100_c = None\n",
    "best_100_d = None\n",
    "\n",
    "for a in kernel_values_a:\n",
    "    for b in kernel_values_b:\n",
    "        for c in kernel_values_c:\n",
    "            for d in kernel_values_d:\n",
    "                print(f\"Kernel Values: ({a}, {b}, {c}, {d}) | Current Best Accuracy: {best_accuracy_100}\", end=\"\\r\")\n",
    "                contours_val = np.array([])\n",
    "                for img_path in list_paths_100:\n",
    "                    img = get_img(img_path)\n",
    "                    bg_img = get_img('./IMAGES/100/background.jpg')\n",
    "\n",
    "                    # Crop the image\n",
    "                    img = crop_img(img)\n",
    "                    bg_img = crop_img(bg_img)\n",
    "\n",
    "                    # Gaussian Blur\n",
    "                    img = gaussian_blur(img, a, b)\n",
    "                    bg_img = gaussian_blur(bg_img, c, d)\n",
    "\n",
    "                    # Image Difference\n",
    "                    diff_img = img_diff(img, bg_img)\n",
    "\n",
    "                    # OTSU Thresholding\n",
    "                    thres_img = threshold_img(diff_img)\n",
    "\n",
    "                    # Contour Detection\n",
    "                    contours = contour_detection(thres_img)\n",
    "                    contours_val = np.append(contours_val, len(contours))\n",
    "                # Accuracy measures how close is the mean contours to 100\n",
    "                diff_to_100 = np.abs(np.mean(contours_val) - 100)\n",
    "                accuracy = ((100 - diff_to_100) / 100 ) * 100\n",
    "                if best_accuracy_100 is None or accuracy > best_accuracy_100:\n",
    "                    best_accuracy_100 = accuracy\n",
    "                    best_100_a = a\n",
    "                    best_100_b = b\n",
    "                    best_100_c = c\n",
    "                    best_100_d = d\n",
    "\n",
    "print(f\"Best Accuracy for 100 images: {best_accuracy_100} \\nBest Kernel for Fry Images: ({best_100_a}, {best_100_b}) \\nBest Kernel for Background Images: ({best_100_c}, {best_100_d})\")"
   ]
  },
  {
   "cell_type": "code",
   "execution_count": 11,
   "metadata": {},
   "outputs": [
    {
     "ename": "KeyboardInterrupt",
     "evalue": "",
     "output_type": "error",
     "traceback": [
      "\u001b[1;31m---------------------------------------------------------------------------\u001b[0m",
      "\u001b[1;31mKeyboardInterrupt\u001b[0m                         Traceback (most recent call last)",
      "\u001b[1;32md:\\Documents\\ACD\\2nd Semester\\CMSC174\\Fly-Counter-Project\\fry_counterv2.ipynb Cell 15\u001b[0m in \u001b[0;36m1\n\u001b[0;32m     <a href='vscode-notebook-cell:/d%3A/Documents/ACD/2nd%20Semester/CMSC174/Fly-Counter-Project/fry_counterv2.ipynb#X20sZmlsZQ%3D%3D?line=12'>13</a>\u001b[0m contours_val \u001b[39m=\u001b[39m np\u001b[39m.\u001b[39marray([])\n\u001b[0;32m     <a href='vscode-notebook-cell:/d%3A/Documents/ACD/2nd%20Semester/CMSC174/Fly-Counter-Project/fry_counterv2.ipynb#X20sZmlsZQ%3D%3D?line=13'>14</a>\u001b[0m \u001b[39mfor\u001b[39;00m img_path \u001b[39min\u001b[39;00m list_paths_200:\n\u001b[1;32m---> <a href='vscode-notebook-cell:/d%3A/Documents/ACD/2nd%20Semester/CMSC174/Fly-Counter-Project/fry_counterv2.ipynb#X20sZmlsZQ%3D%3D?line=14'>15</a>\u001b[0m     img \u001b[39m=\u001b[39m get_img(img_path)\n\u001b[0;32m     <a href='vscode-notebook-cell:/d%3A/Documents/ACD/2nd%20Semester/CMSC174/Fly-Counter-Project/fry_counterv2.ipynb#X20sZmlsZQ%3D%3D?line=15'>16</a>\u001b[0m     bg_img \u001b[39m=\u001b[39m get_img(\u001b[39m'\u001b[39m\u001b[39m./IMAGES/200/background.jpg\u001b[39m\u001b[39m'\u001b[39m)\n\u001b[0;32m     <a href='vscode-notebook-cell:/d%3A/Documents/ACD/2nd%20Semester/CMSC174/Fly-Counter-Project/fry_counterv2.ipynb#X20sZmlsZQ%3D%3D?line=17'>18</a>\u001b[0m     \u001b[39m# Crop the image\u001b[39;00m\n",
      "\u001b[1;32md:\\Documents\\ACD\\2nd Semester\\CMSC174\\Fly-Counter-Project\\fry_counterv2.ipynb Cell 15\u001b[0m in \u001b[0;36m3\n\u001b[0;32m      <a href='vscode-notebook-cell:/d%3A/Documents/ACD/2nd%20Semester/CMSC174/Fly-Counter-Project/fry_counterv2.ipynb#X20sZmlsZQ%3D%3D?line=1'>2</a>\u001b[0m \u001b[39mdef\u001b[39;00m \u001b[39mget_img\u001b[39m(img_path, grayscale\u001b[39m=\u001b[39m\u001b[39mTrue\u001b[39;00m):\n\u001b[1;32m----> <a href='vscode-notebook-cell:/d%3A/Documents/ACD/2nd%20Semester/CMSC174/Fly-Counter-Project/fry_counterv2.ipynb#X20sZmlsZQ%3D%3D?line=2'>3</a>\u001b[0m     img \u001b[39m=\u001b[39m cv\u001b[39m.\u001b[39;49mimread(img_path)\n\u001b[0;32m      <a href='vscode-notebook-cell:/d%3A/Documents/ACD/2nd%20Semester/CMSC174/Fly-Counter-Project/fry_counterv2.ipynb#X20sZmlsZQ%3D%3D?line=3'>4</a>\u001b[0m     \u001b[39mif\u001b[39;00m grayscale:\n\u001b[0;32m      <a href='vscode-notebook-cell:/d%3A/Documents/ACD/2nd%20Semester/CMSC174/Fly-Counter-Project/fry_counterv2.ipynb#X20sZmlsZQ%3D%3D?line=4'>5</a>\u001b[0m         \u001b[39mreturn\u001b[39;00m cv\u001b[39m.\u001b[39mcvtColor(img, cv\u001b[39m.\u001b[39mCOLOR_BGR2GRAY)\n",
      "\u001b[1;31mKeyboardInterrupt\u001b[0m: "
     ]
    }
   ],
   "source": [
    "# Initialize the best accuracy (FOR 200 FRIES)\n",
    "best_accuracy_200 = None\n",
    "best_200_a = None\n",
    "best_200_b = None\n",
    "best_200_c = None\n",
    "best_200_d = None\n",
    "\n",
    "for a in kernel_values_a:\n",
    "    for b in kernel_values_b:\n",
    "        for c in kernel_values_c:\n",
    "            for d in kernel_values_d:\n",
    "                print(f\"Kernel Values: ({a}, {b}, {c}, {d}) | Current Best Accuracy: {best_accuracy_200}\", end=\"\\r\")\n",
    "                contours_val = np.array([])\n",
    "                for img_path in list_paths_200:\n",
    "                    img = get_img(img_path)\n",
    "                    bg_img = get_img('./IMAGES/200/background.jpg')\n",
    "\n",
    "                    # Crop the image\n",
    "                    img = crop_img(img)\n",
    "                    bg_img = crop_img(bg_img)\n",
    "\n",
    "                    # Gaussian Blur\n",
    "                    img = gaussian_blur(img, a, b)\n",
    "                    bg_img = gaussian_blur(bg_img, c, d)\n",
    "\n",
    "                    # Image Difference\n",
    "                    diff_img = img_diff(img, bg_img)\n",
    "\n",
    "                    # OTSU Thresholding\n",
    "                    thres_img = threshold_img(diff_img)\n",
    "\n",
    "                    # Contour Detection\n",
    "                    contours = contour_detection(thres_img)\n",
    "                    contours_val = np.append(contours_val, len(contours))\n",
    "                # Accuracy measures how close is the mean contours to 200\n",
    "                diff_to_200 = np.abs(np.mean(contours_val) - 200)\n",
    "                accuracy = ((200 - diff_to_200) / 200 ) * 100\n",
    "                if best_accuracy_200 is None or accuracy > best_accuracy_200:\n",
    "                    best_accuracy_200 = accuracy\n",
    "                    best_200_a = a\n",
    "                    best_200_b = b\n",
    "                    best_200_c = c\n",
    "                    best_200_d = d\n",
    "\n",
    "print(f\"Best Accuracy for 200 images: {best_accuracy_200} \\nBest Kernel for Fry Images: ({best_200_a}, {best_200_b}) \\nBest Kernel for Background Images: ({best_200_c}, {best_200_d})\")"
   ]
  },
  {
   "cell_type": "code",
   "execution_count": null,
   "metadata": {},
   "outputs": [],
   "source": [
    "# Initialize the best accuracy (FOR 300 FRIES)\n",
    "best_accuracy_300 = None\n",
    "best_300_a = None\n",
    "best_300_b = None\n",
    "best_300_c = None\n",
    "best_300_d = None\n",
    "\n",
    "for a in kernel_values_a:\n",
    "    for b in kernel_values_b:\n",
    "        for c in kernel_values_c:\n",
    "            for d in kernel_values_d:\n",
    "                print(f\"Kernel Values: ({a}, {b}, {c}, {d}) | Current Best Accuracy: {best_accuracy_300}\", end=\"\\r\")\n",
    "                contours_val = np.array([])\n",
    "                for img_path in list_paths_300:\n",
    "                    img = get_img(img_path)\n",
    "                    bg_img = get_img('./IMAGES/300/background.jpg')\n",
    "\n",
    "                    # Crop the image\n",
    "                    img = crop_img(img)\n",
    "                    bg_img = crop_img(bg_img)\n",
    "\n",
    "                    # Gaussian Blur\n",
    "                    img = gaussian_blur(img, a, b)\n",
    "                    bg_img = gaussian_blur(bg_img, c, d)\n",
    "\n",
    "                    # Image Difference\n",
    "                    diff_img = img_diff(img, bg_img)\n",
    "\n",
    "                    # OTSU Thresholding\n",
    "                    thres_img = threshold_img(diff_img)\n",
    "\n",
    "                    # Contour Detection\n",
    "                    contours = contour_detection(thres_img)\n",
    "                    contours_val = np.append(contours_val, len(contours))\n",
    "                # Accuracy measures how close is the mean contours to 300\n",
    "                diff_to_300 = np.abs(np.mean(contours_val) - 300)\n",
    "                accuracy = ((300 - diff_to_300) / 300 ) * 100\n",
    "                if best_accuracy_300 is None or accuracy > best_accuracy_300:\n",
    "                    best_accuracy_300 = accuracy\n",
    "                    best_300_a = a\n",
    "                    best_300_b = b\n",
    "                    best_300_c = c\n",
    "                    best_300_d = d\n",
    "\n",
    "print(f\"Best Accuracy for 300 images: {best_accuracy_300} \\nBest Kernel for Fry Images: ({best_300_a}, {best_300_b}) \\nBest Kernel for Background Images: ({best_300_c}, {best_300_d})\")"
   ]
  },
  {
   "cell_type": "code",
   "execution_count": null,
   "metadata": {},
   "outputs": [],
   "source": [
    "# Initialize the best accuracy (FOR 400 FRIES)\n",
    "best_accuracy_400 = None\n",
    "best_400_a = None\n",
    "best_400_b = None\n",
    "best_400_c = None\n",
    "best_400_d = None\n",
    "\n",
    "for a in kernel_values_a:\n",
    "    for b in kernel_values_b:\n",
    "        for c in kernel_values_c:\n",
    "            for d in kernel_values_d:\n",
    "                print(f\"Kernel Values: ({a}, {b}, {c}, {d}) | Current Best Accuracy: {best_accuracy_400}\", end=\"\\r\")\n",
    "                contours_val = np.array([])\n",
    "                for img_path in list_paths_400:\n",
    "                    img = get_img(img_path)\n",
    "                    bg_img = get_img('./IMAGES/400/background.jpg')\n",
    "\n",
    "                    # Crop the image\n",
    "                    img = crop_img(img)\n",
    "                    bg_img = crop_img(bg_img)\n",
    "\n",
    "                    # Gaussian Blur\n",
    "                    img = gaussian_blur(img, a, b)\n",
    "                    bg_img = gaussian_blur(bg_img, c, d)\n",
    "\n",
    "                    # Image Difference\n",
    "                    diff_img = img_diff(img, bg_img)\n",
    "\n",
    "                    # OTSU Thresholding\n",
    "                    thres_img = threshold_img(diff_img)\n",
    "\n",
    "                    # Contour Detection\n",
    "                    contours = contour_detection(thres_img)\n",
    "                    contours_val = np.append(contours_val, len(contours))\n",
    "                # Accuracy measures how close is the mean contours to 400\n",
    "                diff_to_400 = np.abs(np.mean(contours_val) - 400)\n",
    "                accuracy = ((400 - diff_to_400) / 400 ) * 100\n",
    "                if best_accuracy_400 is None or accuracy > best_accuracy_400:\n",
    "                    best_accuracy_400 = accuracy\n",
    "                    best_400_a = a\n",
    "                    best_400_b = b\n",
    "                    best_400_c = c\n",
    "                    best_400_d = d\n",
    "\n",
    "print(f\"Best Accuracy for 400 images: {best_accuracy_400} \\nBest Kernel for Fry Images: ({best_400_a}, {best_400_b}) \\nBest Kernel for Background Images: ({best_400_c}, {best_400_d})\")"
   ]
  }
 ],
 "metadata": {
  "kernelspec": {
   "display_name": "Python 3",
   "language": "python",
   "name": "python3"
  },
  "language_info": {
   "codemirror_mode": {
    "name": "ipython",
    "version": 3
   },
   "file_extension": ".py",
   "mimetype": "text/x-python",
   "name": "python",
   "nbconvert_exporter": "python",
   "pygments_lexer": "ipython3",
   "version": "3.11.1"
  },
  "orig_nbformat": 4
 },
 "nbformat": 4,
 "nbformat_minor": 2
}
