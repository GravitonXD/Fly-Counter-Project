{
 "cells": [
  {
   "attachments": {},
   "cell_type": "markdown",
   "metadata": {},
   "source": [
    "# FISH FRY COUNTER TRAINING\n",
    "Developed by: John Markton M. Olarte"
   ]
  },
  {
   "cell_type": "code",
   "execution_count": 1,
   "metadata": {},
   "outputs": [],
   "source": [
    "import cv2 as cv\n",
    "import matplotlib.pyplot as plt\n",
    "import numpy as np\n",
    "import os\n",
    "import pandas as pd"
   ]
  },
  {
   "attachments": {},
   "cell_type": "markdown",
   "metadata": {},
   "source": [
    "## Training Methodology\n",
    "1. Load Images\n",
    "2. Preprocess Images (Grayscale, Crop, Gaussian Blur, Remove Background Image Data, OTSU Threshold)\n",
    "3. Count White Pixels"
   ]
  },
  {
   "cell_type": "code",
   "execution_count": 2,
   "metadata": {},
   "outputs": [],
   "source": [
    "# Function for opening image\n",
    "def get_img(img_path, grayscale=True):\n",
    "    img = cv.imread(img_path)\n",
    "    if grayscale:\n",
    "        return cv.cvtColor(img, cv.COLOR_BGR2GRAY)\n",
    "    return img"
   ]
  },
  {
   "cell_type": "code",
   "execution_count": 3,
   "metadata": {},
   "outputs": [],
   "source": [
    "# Function for cropping image\n",
    "def crop_img(img):\n",
    "    img_centerX = img.shape[1] // 2\n",
    "    img_centerY = img.shape[0] // 2\n",
    "\n",
    "    # Initialize mask to use\n",
    "    mask = np.zeros(img.shape, dtype=np.uint8)\n",
    "\n",
    "    # Crop the image\n",
    "    region_to_cut = cv.ellipse(mask, (img_centerX, img_centerY), (547, 547), 0, 0, 360, 255, -1)\n",
    "    cropped_img = cv.bitwise_or(img, img, mask=region_to_cut)\n",
    "    return cropped_img[:, img_centerX-600:img_centerX+600]"
   ]
  },
  {
   "cell_type": "code",
   "execution_count": 4,
   "metadata": {},
   "outputs": [],
   "source": [
    "# Gaussian Blur Function\n",
    "def gaussian_blur(img, kernel_a, kernel_b):\n",
    "    return cv.GaussianBlur(img, (kernel_a, kernel_b), 0)"
   ]
  },
  {
   "cell_type": "code",
   "execution_count": 5,
   "metadata": {},
   "outputs": [],
   "source": [
    "# Remove the background from the fry image\n",
    "def img_diff(img, bg_img):\n",
    "    return cv.absdiff(img, bg_img)"
   ]
  },
  {
   "cell_type": "code",
   "execution_count": 6,
   "metadata": {},
   "outputs": [],
   "source": [
    "# Image Segmentation Using Thresholding Function\n",
    "def threshold_img(diff_img, type='OTSU', block=0, c=0):\n",
    "    if type == 'OTSU':\n",
    "        _, thresh_img = cv.threshold(diff_img, 0, 255, cv.THRESH_BINARY + cv.THRESH_OTSU)\n",
    "        return thresh_img\n",
    "    return cv.adaptiveThreshold(diff_img, 256, cv.ADAPTIVE_THRESH_GAUSSIAN_C, cv.THRESH_BINARY, block, c)"
   ]
  },
  {
   "cell_type": "code",
   "execution_count": 7,
   "metadata": {},
   "outputs": [],
   "source": [
    "# Histogram Counter\n",
    "def histogram_counter(thres_img, pixel_to_count='white'):\n",
    "    if pixel_to_count == 'white':\n",
    "        return np.count_nonzero(thres_img == 255)\n",
    "    return np.count_nonzero(thres_img == 0)"
   ]
  },
  {
   "cell_type": "code",
   "execution_count": 8,
   "metadata": {},
   "outputs": [],
   "source": [
    "# Countour Detection\n",
    "def contour_detection(thres_img):\n",
    "    contours, _ = cv.findContours(thres_img, cv.RETR_TREE, cv.CHAIN_APPROX_SIMPLE)\n",
    "    return contours"
   ]
  },
  {
   "attachments": {},
   "cell_type": "markdown",
   "metadata": {},
   "source": [
    "## Find the Pixel Count Boundaries"
   ]
  },
  {
   "cell_type": "code",
   "execution_count": 9,
   "metadata": {},
   "outputs": [],
   "source": [
    "# Path to the images (100)\n",
    "path = '../IMAGES/100/'\n",
    "list_images_100 = [f for f in os.listdir(path) if f.startswith('my_photo')]\n",
    "list_paths_100 = [path + f for f in list_images_100]\n",
    "\n",
    "# Path to the images (200)\n",
    "path = '../IMAGES/200/'\n",
    "list_images_200 = [f for f in os.listdir(path) if f.startswith('my_photo')]\n",
    "list_paths_200 = [path + f for f in list_images_200]\n",
    "\n",
    "# Path to the images (300)\n",
    "path = '../IMAGES/300/'\n",
    "list_images_300 = [f for f in os.listdir(path) if f.startswith('my_photo')]\n",
    "list_paths_300 = [path + f for f in list_images_300]\n",
    "\n",
    "# Path to the images (400)\n",
    "path = '../IMAGES/400/'\n",
    "list_images_400 = [f for f in os.listdir(path) if f.startswith('my_photo')]\n",
    "list_paths_400 = [path + f for f in list_images_400]"
   ]
  },
  {
   "cell_type": "code",
   "execution_count": 10,
   "metadata": {},
   "outputs": [],
   "source": [
    "df = pd.DataFrame(columns=['white_pixels', 'contour', 'label'])\n",
    "os.makedirs('./exported_df', exist_ok=True)"
   ]
  },
  {
   "cell_type": "code",
   "execution_count": 11,
   "metadata": {},
   "outputs": [],
   "source": [
    "block, c = 37, 5"
   ]
  },
  {
   "cell_type": "code",
   "execution_count": 12,
   "metadata": {},
   "outputs": [],
   "source": [
    "# Image with 100\n",
    "df_100 = df.copy()\n",
    "for img_path in list_paths_100:\n",
    "    img = get_img(img_path)\n",
    "    bg_img = get_img('../IMAGES/100/background.jpg')\n",
    "\n",
    "    # Crop the image\n",
    "    img = crop_img(img)\n",
    "    bg_img = crop_img(bg_img)\n",
    "\n",
    "    # Image Difference\n",
    "    diff_img = img_diff(img, bg_img)\n",
    "\n",
    "    # Adaptive Gaussian Threshold\n",
    "    thres_img = threshold_img(diff_img, type=\"ADAPTIVE\", block=block, c=c)\n",
    "\n",
    "    # Contour Detection\n",
    "    contours = contour_detection(thres_img)\n",
    "\n",
    "    df_100 = pd.concat([df_100, pd.DataFrame({'white_pixels': [histogram_counter(thres_img)], 'contours': len(contours), 'label': [100]})], ignore_index=True)\n",
    "\n",
    "df_100.to_csv('./exported_df/df_100.csv', index=False)"
   ]
  },
  {
   "cell_type": "code",
   "execution_count": 13,
   "metadata": {},
   "outputs": [],
   "source": [
    "# Image with 200\n",
    "df_200 = df.copy()\n",
    "for img_path in list_paths_200:\n",
    "    img = get_img(img_path)\n",
    "    bg_img = get_img('../IMAGES/100/background.jpg')\n",
    "\n",
    "    # Crop the image\n",
    "    img = crop_img(img)\n",
    "    bg_img = crop_img(bg_img)\n",
    "\n",
    "    # Image Difference\n",
    "    diff_img = img_diff(img, bg_img)\n",
    "\n",
    "    # Adaptive Gaussian Threshold\n",
    "    thres_img = threshold_img(diff_img, type=\"ADAPTIVE\", block=block, c=c)\n",
    "    # Contour Detection\n",
    "    contours = contour_detection(thres_img)\n",
    "    \n",
    "    df_200 = pd.concat([df_200, pd.DataFrame({'white_pixels': [histogram_counter(thres_img)], 'contours': len(contours), 'label': [200]})], ignore_index=True)\n",
    "\n",
    "df_200.to_csv('./exported_df/df_200.csv', index=False)"
   ]
  },
  {
   "cell_type": "code",
   "execution_count": 14,
   "metadata": {},
   "outputs": [],
   "source": [
    "# Image with 300\n",
    "df_300 = df.copy()\n",
    "for img_path in list_paths_300:\n",
    "    img = get_img(img_path)\n",
    "    bg_img = get_img('../IMAGES/100/background.jpg')\n",
    "\n",
    "    # Crop the image\n",
    "    img = crop_img(img)\n",
    "    bg_img = crop_img(bg_img)\n",
    "\n",
    "    # Image Difference\n",
    "    diff_img = img_diff(img, bg_img)\n",
    "\n",
    "    # Adaptive Gaussian Threshold\n",
    "    thres_img = threshold_img(diff_img, type=\"ADAPTIVE\", block=block, c=c)\n",
    "\n",
    "    # Contour Detection\n",
    "    contours = contour_detection(thres_img)\n",
    "    \n",
    "    df_300 = pd.concat([df_300, pd.DataFrame({'white_pixels': [histogram_counter(thres_img)], 'contours': len(contours), 'label': [300]})], ignore_index=True)\n",
    "\n",
    "df_300.to_csv('./exported_df/df_300.csv', index=False)"
   ]
  },
  {
   "cell_type": "code",
   "execution_count": 15,
   "metadata": {},
   "outputs": [],
   "source": [
    "# Image with 400\n",
    "df_400 = df.copy()\n",
    "for img_path in list_paths_400:\n",
    "    img = get_img(img_path)\n",
    "    bg_img = get_img('../IMAGES/100/background.jpg')\n",
    "\n",
    "    # Crop the image\n",
    "    img = crop_img(img)\n",
    "    bg_img = crop_img(bg_img)\n",
    "\n",
    "    # Image Difference\n",
    "    diff_img = img_diff(img, bg_img)\n",
    "\n",
    "    # Adaptive Gaussian Threshold\n",
    "    thres_img = threshold_img(diff_img, type=\"ADAPTIVE\", block=block, c=c)\n",
    "\n",
    "    # Contour Detection\n",
    "    contours = contour_detection(thres_img)\n",
    "\n",
    "    df_400 = pd.concat([df_400, pd.DataFrame({'white_pixels': [histogram_counter(thres_img)], 'contours': len(contours), 'label': [400]})], ignore_index=True)\n",
    "\n",
    "df_400.to_csv('./exported_df/df_400.csv', index=False)"
   ]
  },
  {
   "cell_type": "code",
   "execution_count": 16,
   "metadata": {},
   "outputs": [
    {
     "name": "stdout",
     "output_type": "stream",
     "text": [
      "Minimum white_pixels:  1265864 1221275 1196588 1160103\n",
      "Maximum white_pixels:  1270473 1229159 1216145 1172078\n",
      "Minimum contours:  748.0 2233.0 2516.0 2982.0\n",
      "Maximum contours:  893.0 2571.0 2955.0 3476.0\n"
     ]
    }
   ],
   "source": [
    "print('Minimum white_pixels: ', df_100['white_pixels'].min(), df_200['white_pixels'].min(), df_300['white_pixels'].min(), df_400['white_pixels'].min())\n",
    "print('Maximum white_pixels: ', df_100['white_pixels'].max(), df_200['white_pixels'].max(), df_300['white_pixels'].max(), df_400['white_pixels'].max())\n",
    "print('Minimum contours: ', df_100['contours'].min(), df_200['contours'].min(), df_300['contours'].min(), df_400['contours'].min())\n",
    "print('Maximum contours: ', df_100['contours'].max(), df_200['contours'].max(), df_300['contours'].max(), df_400['contours'].max())"
   ]
  },
  {
   "cell_type": "code",
   "execution_count": 17,
   "metadata": {},
   "outputs": [],
   "source": [
    "import matplotlib.pyplot as plt\n",
    "%matplotlib inline"
   ]
  },
  {
   "cell_type": "code",
   "execution_count": 18,
   "metadata": {},
   "outputs": [
    {
     "data": {
      "image/png": "[encoded data removed]",
      "text/plain": [
       "<Figure size 1000x1000 with 1 Axes>"
      ]
     },
     "metadata": {},
     "output_type": "display_data"
    }
   ],
   "source": [
    "# Scatter Plot for the minimum and maximum white_pixels and contours for each label\n",
    "plt.figure(figsize=(10, 10))\n",
    "plt.scatter(df_100['white_pixels'], df_100['contours'], label='100')\n",
    "plt.scatter(df_200['white_pixels'], df_200['contours'], label='200')\n",
    "plt.scatter(df_300['white_pixels'], df_300['contours'], label='300')\n",
    "plt.scatter(df_400['white_pixels'], df_400['contours'], label='400')\n",
    "plt.xlabel('White Pixels')\n",
    "plt.ylabel('Contours')\n",
    "plt.legend()\n",
    "plt.show()"
   ]
  },
  {
   "cell_type": "code",
   "execution_count": 19,
   "metadata": {},
   "outputs": [
    {
     "name": "stdout",
     "output_type": "stream",
     "text": [
      "Number of overlapping points:  0\n"
     ]
    }
   ],
   "source": [
    "# Check if there are overlapping points between the labels\n",
    "points_100 = df_100[['white_pixels', 'contours']].values\n",
    "points_200 = df_200[['white_pixels', 'contours']].values\n",
    "points_300 = df_300[['white_pixels', 'contours']].values\n",
    "points_400 = df_400[['white_pixels', 'contours']].values\n",
    "\n",
    "overlap = []\n",
    "for point in points_100:\n",
    "    if point in points_200 or point in points_300 or point in points_400:\n",
    "        overlap.append(point)\n",
    "\n",
    "for point in points_200:\n",
    "    if point in points_100 or point in points_300 or point in points_400:\n",
    "        overlap.append(point)\n",
    "\n",
    "for point in points_300:\n",
    "    if point in points_100 or point in points_200 or point in points_400:\n",
    "        overlap.append(point)\n",
    "\n",
    "for point in points_400:\n",
    "    if point in points_100 or point in points_200 or point in points_300:\n",
    "        overlap.append(point)\n",
    "\n",
    "print('Number of overlapping points: ', len(overlap))"
   ]
  }
 ],
 "metadata": {
  "kernelspec": {
   "display_name": "Python 3",
   "language": "python",
   "name": "python3"
  },
  "language_info": {
   "codemirror_mode": {
    "name": "ipython",
    "version": 3
   },
   "file_extension": ".py",
   "mimetype": "text/x-python",
   "name": "python",
   "nbconvert_exporter": "python",
   "pygments_lexer": "ipython3",
   "version": "3.11.1"
  },
  "orig_nbformat": 4
 },
 "nbformat": 4,
 "nbformat_minor": 2
}
