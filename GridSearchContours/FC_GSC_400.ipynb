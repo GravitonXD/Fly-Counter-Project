{
 "cells": [
  {
   "attachments": {},
   "cell_type": "markdown",
   "metadata": {},
   "source": [
    "# Fry Counter Grid Search Contours (FC_GSC_400)"
   ]
  },
  {
   "cell_type": "code",
   "execution_count": 1,
   "metadata": {},
   "outputs": [],
   "source": [
    "import cv2 as cv\n",
    "import numpy as np\n",
    "import os"
   ]
  },
  {
   "cell_type": "code",
   "execution_count": 2,
   "metadata": {},
   "outputs": [],
   "source": [
    "# Function for opening image\n",
    "def get_img(img_path, grayscale=True):\n",
    "    img = cv.imread(img_path)\n",
    "    if grayscale:\n",
    "        return cv.cvtColor(img, cv.COLOR_BGR2GRAY)\n",
    "    return img"
   ]
  },
  {
   "cell_type": "code",
   "execution_count": 3,
   "metadata": {},
   "outputs": [],
   "source": [
    "# Function for cropping image\n",
    "def crop_img(img):\n",
    "    img_centerX = img.shape[1] // 2\n",
    "    img_centerY = img.shape[0] // 2\n",
    "\n",
    "    # Initialize mask to use\n",
    "    mask = np.zeros(img.shape, dtype=np.uint8)\n",
    "\n",
    "    # Crop the image\n",
    "    region_to_cut = cv.ellipse(mask, (img_centerX, img_centerY), (547, 547), 0, 0, 360, 255, -1)\n",
    "    cropped_img = cv.bitwise_or(img, img, mask=region_to_cut)\n",
    "    return cropped_img[:, img_centerX-600:img_centerX+600]"
   ]
  },
  {
   "cell_type": "code",
   "execution_count": 4,
   "metadata": {},
   "outputs": [],
   "source": [
    "# Gaussian Blur Function\n",
    "def gaussian_blur(img, kernel_a, kernel_b):\n",
    "    return cv.GaussianBlur(img, (kernel_a, kernel_b), 0)"
   ]
  },
  {
   "cell_type": "code",
   "execution_count": 5,
   "metadata": {},
   "outputs": [],
   "source": [
    "# Remove the background from the fry image\n",
    "def img_diff(img, bg_img):\n",
    "    return cv.absdiff(img, bg_img)"
   ]
  },
  {
   "cell_type": "code",
   "execution_count": 6,
   "metadata": {},
   "outputs": [],
   "source": [
    "# Image Segmentation Using Thresholding Function\n",
    "def threshold_img(diff_img, type='OTSU', block=0, c=0):\n",
    "    if type == 'OTSU':\n",
    "        _, thresh_img = cv.threshold(diff_img, 0, 255, cv.THRESH_BINARY + cv.THRESH_OTSU)\n",
    "        return thresh_img\n",
    "    else:\n",
    "        return cv.adaptiveThreshold(diff_img, 255, cv.ADAPTIVE_THRESH_GAUSSIAN_C, cv.THRESH_OTSU, block, c)"
   ]
  },
  {
   "cell_type": "code",
   "execution_count": 7,
   "metadata": {},
   "outputs": [],
   "source": [
    "# Histogram Counter\n",
    "def histogram_counter(thres_img, pixel_to_count='white'):\n",
    "    if pixel_to_count == 'white':\n",
    "        return np.count_nonzero(thres_img == 255)\n",
    "    else:\n",
    "        return np.count_nonzero(thres_img == 0)"
   ]
  },
  {
   "cell_type": "code",
   "execution_count": 8,
   "metadata": {},
   "outputs": [],
   "source": [
    "# Countour Detection\n",
    "def contour_detection(thres_img):\n",
    "    contours, _ = cv.findContours(thres_img, cv.RETR_TREE, cv.CHAIN_APPROX_SIMPLE)\n",
    "    return contours"
   ]
  },
  {
   "attachments": {},
   "cell_type": "markdown",
   "metadata": {},
   "source": [
    "# GRID SEARCH"
   ]
  },
  {
   "cell_type": "code",
   "execution_count": 9,
   "metadata": {},
   "outputs": [],
   "source": [
    "# Path to the images (400)\n",
    "path = '../IMAGES/400/'\n",
    "list_images_400 = [f for f in os.listdir(path) if f.startswith('my_photo')]\n",
    "list_paths_400 = [path + f for f in list_images_400]"
   ]
  },
  {
   "cell_type": "code",
   "execution_count": 10,
   "metadata": {},
   "outputs": [],
   "source": [
    "# Kernel values for Grid Searching\n",
    "\n",
    "# Kernel values for Fry Image\n",
    "kernel_values_a = [3, 5, 7, 9, 11, 13]\n",
    "kernel_values_b = [3, 5, 7, 9, 11, 13]\n",
    "\n",
    "# Kernel values for Background Image\n",
    "kernel_values_c = [3, 5, 7, 9, 11, 13]\n",
    "kernel_values_d = [3, 5, 7, 9, 11, 13]"
   ]
  },
  {
   "cell_type": "code",
   "execution_count": 11,
   "metadata": {},
   "outputs": [
    {
     "name": "stdout",
     "output_type": "stream",
     "text": [
      "Best Accuracy for 400 images: 99.935 \n",
      "Best Kernel for Fry Images: (11, 11) \n",
      "Best Kernel for Background Images: (9, 3)\n"
     ]
    }
   ],
   "source": [
    "# Initialize the best accuracy (FOR 400 FRIES)\n",
    "best_accuracy_400 = None\n",
    "best_400_a = None\n",
    "best_400_b = None\n",
    "best_400_c = None\n",
    "best_400_d = None\n",
    "\n",
    "for a in kernel_values_a:\n",
    "    for b in kernel_values_b:\n",
    "        for c in kernel_values_c:\n",
    "            for d in kernel_values_d:\n",
    "                contours_val = np.array([])\n",
    "                for img_path in list_paths_400:\n",
    "                    img = get_img(img_path)\n",
    "                    bg_img = get_img('../IMAGES/400/background.jpg')\n",
    "\n",
    "                    # Crop the image\n",
    "                    img = crop_img(img)\n",
    "                    bg_img = crop_img(bg_img)\n",
    "\n",
    "                    # Gaussian Blur\n",
    "                    img = gaussian_blur(img, a, b)\n",
    "                    bg_img = gaussian_blur(bg_img, c, d)\n",
    "\n",
    "                    # Image Difference\n",
    "                    diff_img = img_diff(img, bg_img)\n",
    "\n",
    "                    # OTSU Thresholding\n",
    "                    thres_img = threshold_img(diff_img)\n",
    "\n",
    "                    # Contour Detection\n",
    "                    contours = contour_detection(thres_img)\n",
    "                    contours_val = np.append(contours_val, len(contours))\n",
    "                # Accuracy measures how close is the mean contours to 400\n",
    "                diff_to_400 = np.abs(np.mean(contours_val) - 400)\n",
    "                accuracy = ((400 - diff_to_400) / 400 ) * 100\n",
    "                if best_accuracy_400 is None or accuracy > best_accuracy_400:\n",
    "                    best_accuracy_400 = accuracy\n",
    "                    best_400_a = a\n",
    "                    best_400_b = b\n",
    "                    best_400_c = c\n",
    "                    best_400_d = d\n",
    "\n",
    "print(f\"Best Accuracy for 400 images: {best_accuracy_400} \\nBest Kernel for Fry Images: ({best_400_a}, {best_400_b}) \\nBest Kernel for Background Images: ({best_400_c}, {best_400_d})\")"
   ]
  }
 ],
 "metadata": {
  "kernelspec": {
   "display_name": "Python 3",
   "language": "python",
   "name": "python3"
  },
  "language_info": {
   "codemirror_mode": {
    "name": "ipython",
    "version": 3
   },
   "file_extension": ".py",
   "mimetype": "text/x-python",
   "name": "python",
   "nbconvert_exporter": "python",
   "pygments_lexer": "ipython3",
   "version": "3.11.1"
  },
  "orig_nbformat": 4
 },
 "nbformat": 4,
 "nbformat_minor": 2
}
